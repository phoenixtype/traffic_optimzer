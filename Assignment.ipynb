{
 "cells": [
  {
   "cell_type": "markdown",
   "metadata": {},
   "source": [
    "# How To Understand the Assignment"
   ]
  },
  {
   "cell_type": "markdown",
   "metadata": {},
   "source": [
    "Here, We are going to import a module called \"sys\", its a module that takes care of system related tasks,\n",
    "That is if want to carry sometasks that involves, e.g Filesystem, IO related tasks"
   ]
  },
  {
   "cell_type": "code",
   "execution_count": 1,
   "metadata": {},
   "outputs": [],
   "source": [
    "import sys"
   ]
  },
  {
   "cell_type": "markdown",
   "metadata": {},
   "source": [
    "This function is the first function thats called.\n",
    "it calls sys.stdin.readline().strip(); this command, waits for the user to type in anything in the terminal,\n",
    "Remember its a loop, so when the first iteration occurs, it calls line 4, then it waits for user to type in a message in the terminal, then it runs through the conditional blocks(the \"ifs\").\n",
    "\n",
    "In relation to your assignment, the program will be waiting for commands. Look at line 9, it say if the command typed in the terminal / console begings with \"a\" then it means the user intends to add a street name and its coordinates."
   ]
  },
  {
   "cell_type": "code",
   "execution_count": null,
   "metadata": {},
   "outputs": [],
   "source": [
    "def main():\n",
    "     while True:\n",
    "        try:\n",
    "            line=sys.stdin.readline().strip()\n",
    "            if line ==\"\":\n",
    "               break  \n",
    "            if line ==\"\\0\":\n",
    "               break    \n",
    "            if line.startswith('a'):\n",
    "               (streetna,coord)=parse(line)\n",
    "               add(streetna,coord)\n",
    "            elif line.startswith('c'):\n",
    "               (streetna,coord)=parse(line)\n",
    "               change(streetna,coord)\n",
    "            elif line.startswith('r'):\n",
    "               streetna=parse_remove(line)\n",
    "               remove(streetna)\n",
    "            elif line.startswith('g'):\n",
    "               generate_graph()\n",
    "               delete_multi_intersction_segemnt()\n",
    "               single_intersction_output()\n",
    "               multi_intersction_output()\n",
    "               generate_output()\n",
    "            else:\n",
    "                raise Exception (\"Error:invalid command\")\n",
    "        except Exception as error:\n",
    "               print(error)\n",
    "     sys.exit(0)\n"
   ]
  },
  {
   "cell_type": "markdown",
   "metadata": {},
   "source": [
    "In the file sub.py the first paragraph shows some declaration, declaration with [] means an Array, declaration with {} means a Dictionary. in the program this is where the vertices and intersections and edges will be stored for the graph output"
   ]
  },
  {
   "cell_type": "code",
   "execution_count": null,
   "metadata": {},
   "outputs": [],
   "source": [
    "import re\n",
    "class store:\n",
    "    dic={}\n",
    "class gen_all:\n",
    "    poi=[]\n",
    "class gen_start_end:\n",
    "    poi=[]  \n",
    "class gen_intersection:\n",
    "    poi=[]\n",
    "class gen_valid:\n",
    "    poi=[]\n",
    "class gen_multi_intersection:\n",
    "    poi=[]\n",
    "class gen_valid_poi:\n",
    "    a={}\n",
    "class ready_to_remove:\n",
    "    poi=[]\n",
    "class segment_output:\n",
    "    seg=[]"
   ]
  },
  {
   "cell_type": "markdown",
   "metadata": {},
   "source": [
    "Here our first utility function, this function is in charge of parsing commands from terminal, into meaningful intents"
   ]
  },
  {
   "cell_type": "code",
   "execution_count": null,
   "metadata": {},
   "outputs": [],
   "source": [
    "def parse(line):"
   ]
  },
  {
   "cell_type": "markdown",
   "metadata": {},
   "source": [
    "This is Regular Expression check it here, for what regular expression. The first pattern @line 1 says find anything thats is Alphabet in the command type which is in the variable \"line.\n",
    "@line 2, it says find anything numbers.\n",
    "example if we type \"a Webser street (2,4) (5,2) (-1, 6)\" in the command, therefore streetna = \"Webster Street\",\n",
    "while coord = (2,4) (5,2) (-1, 6)\n",
    "\n",
    "Further reading ask what findALl return:- it returns a list(Just always check what these function do, (Your advantage-> Internet service)"
   ]
  },
  {
   "cell_type": "code",
   "execution_count": null,
   "metadata": {},
   "outputs": [],
   "source": [
    "streetna=re.findall(r\"\\s\\\"(.*)\\\"\\s\",line)  \n",
    "coord=re.findall(r\"\\(\\-?[0-9]+\\,\\-?[0-9]+\\)\",line)"
   ]
  },
  {
   "cell_type": "markdown",
   "metadata": {},
   "source": [
    "Here Selena Gomez :-), tries to clear whitespaces with the command, google this one\n",
    "\"What do join() method in String Do in Python\""
   ]
  },
  {
   "cell_type": "code",
   "execution_count": null,
   "metadata": {},
   "outputs": [],
   "source": [
    "    check_streetna=\"\".join(streetna)+\"\".join(coord)\n",
    "    check_streetna=check_streetna.replace(\" \",\"\")"
   ]
  },
  {
   "cell_type": "markdown",
   "metadata": {},
   "source": [
    "There is a loop, The intention of this block, is to convert strings, that where passed as commands into computable numbers, eval() means evaluate. it evaluates a python code and return the answer of the evaluation.\n",
    "example: assume coord[i] will be (2,4)(as string) in the first interation(for Example Oooo), now after evaluation it will return a turple (2,4), which is a computable data type.\n",
    "\n",
    "@ln 3 it replace any space \" \" with \"\"(meaning no space, remember )"
   ]
  },
  {
   "cell_type": "code",
   "execution_count": null,
   "metadata": {},
   "outputs": [],
   "source": [
    "for i in range (0,len(coord)):\n",
    "       coord[i]=eval(coord[i])\n",
    "    if line.replace(\" \",\"\").replace(\"\\\"\",\"\")[1:]!=check_streetna:\n",
    "       print(\"Error:Unrecognize command.\")\n",
    "       return(\"\",\"\")\n",
    "    if len(streetna)!=1:\n",
    "       print(\"Error:Wrong street name.\")\n",
    "       return(\"\",\"\")\n",
    "    else:\n",
    "        streetna=streetna[0]"
   ]
  },
  {
   "cell_type": "markdown",
   "metadata": {},
   "source": [
    "In python we have implicit and explicit conditioning. if a list is empty it implies false and when it have an element it imlplies true, but when we say if list is list of cars that means you are being explicit with the condition.\n",
    "\n",
    "So you should figure out this condition, @ln 5 it returns (streetna,coord)(tuple)"
   ]
  },
  {
   "cell_type": "code",
   "execution_count": null,
   "metadata": {},
   "outputs": [],
   "source": [
    "if not coord:\n",
    "        print (\"Error:No route.\")\n",
    "      \n",
    "##    print(streetna,coord)    \n",
    "    return (streetna,coord)"
   ]
  },
  {
   "cell_type": "markdown",
   "metadata": {},
   "source": [
    "Here this utility function, is in charge of removing line."
   ]
  },
  {
   "cell_type": "code",
   "execution_count": null,
   "metadata": {},
   "outputs": [],
   "source": [
    "def parse_remove(line):\n",
    "    streetna=re.findall(r\"\\s\\\"(.*)\\\"\",line)  \n",
    "    check_streetna=\"\".join(streetna)\n",
    "    check_streetna=check_streetna.replace(\" \",\"\")\n",
    "    streetna=streetna[0]\n",
    "    \n",
    "    if line.replace(\" \",\"\").replace(\"\\\"\",\"\")[1:]!=check_streetna:\n",
    "        print(\"Error:Unrecognize command.\")\n",
    "        return('')\n",
    "    return(streetna)"
   ]
  },
  {
   "cell_type": "markdown",
   "metadata": {},
   "source": [
    "Here this function Adds a street and its coordinates to a store. Wait Wait are looking at me? You obviously need to store variable somehere.\n",
    "\n",
    "@ln 4 asks if that particular name is already stored so as not causes redundancy(Storing the same thing over and over again->Insanity!)\n",
    "\n",
    "@ln 9 thats where its stored its a dictionary( check what a dictionary is in python)"
   ]
  },
  {
   "cell_type": "code",
   "execution_count": null,
   "metadata": {},
   "outputs": [],
   "source": [
    "def add(streetna,coord):\n",
    "    if  streetna and coord:\n",
    "        try:\n",
    "          if streetna in store.dic:\n",
    "             raise Exception (\"Error:This street has already exist.\")\n",
    "          if len(coord)<=1:\n",
    "             raise Exception (\"Error:At least two point to build a street.\")\n",
    "    ##         print(streetna)\n",
    "          store.dic[streetna]=coord\n",
    "    ##      print store.dic\n",
    "        except Exception as error:\n",
    "             print(error)"
   ]
  },
  {
   "cell_type": "code",
   "execution_count": null,
   "metadata": {},
   "outputs": [],
   "source": []
  }
 ],
 "metadata": {
  "kernelspec": {
   "display_name": "Python 3",
   "language": "python",
   "name": "python3"
  },
  "language_info": {
   "codemirror_mode": {
    "name": "ipython",
    "version": 3
   },
   "file_extension": ".py",
   "mimetype": "text/x-python",
   "name": "python",
   "nbconvert_exporter": "python",
   "pygments_lexer": "ipython3",
   "version": "3.6.5"
  }
 },
 "nbformat": 4,
 "nbformat_minor": 2
}
